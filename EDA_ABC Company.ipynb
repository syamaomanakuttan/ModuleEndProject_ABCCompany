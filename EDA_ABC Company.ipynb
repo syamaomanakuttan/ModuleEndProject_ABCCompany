{
 "cells": [
  {
   "cell_type": "markdown",
   "id": "9994df67-7fa1-4262-9600-c235aa9174a5",
   "metadata": {},
   "source": [
    "### Preprocessing"
   ]
  },
  {
   "cell_type": "code",
   "execution_count": 9,
   "id": "63a903f5-d813-4a33-a903-1984041fff7e",
   "metadata": {},
   "outputs": [
    {
     "name": "stdout",
     "output_type": "stream",
     "text": [
      "Initial data:\n",
      "            Name            Team  Number Position  Age  Height  Weight  \\\n",
      "0  Avery Bradley  Boston Celtics       0       PG   25  06-Feb     180   \n",
      "1    Jae Crowder  Boston Celtics      99       SF   25  06-Jun     235   \n",
      "2   John Holland  Boston Celtics      30       SG   27  06-May     205   \n",
      "3    R.J. Hunter  Boston Celtics      28       SG   22  06-May     185   \n",
      "4  Jonas Jerebko  Boston Celtics       8       PF   29  06-Oct     231   \n",
      "\n",
      "             College     Salary  \n",
      "0              Texas  7730337.0  \n",
      "1          Marquette  6796117.0  \n",
      "2  Boston University        NaN  \n",
      "3      Georgia State  1148640.0  \n",
      "4                NaN  5000000.0  \n",
      "\n",
      "Corrected data:\n",
      "            Name            Team  Number Position  Age  Height  Weight  \\\n",
      "0  Avery Bradley  Boston Celtics       0       PG   25  06-Feb     180   \n",
      "1    Jae Crowder  Boston Celtics      99       SF   25  06-Jun     235   \n",
      "2   John Holland  Boston Celtics      30       SG   27  06-May     205   \n",
      "3    R.J. Hunter  Boston Celtics      28       SG   22  06-May     185   \n",
      "4  Jonas Jerebko  Boston Celtics       8       PF   29  06-Oct     231   \n",
      "\n",
      "             College     Salary  height  \n",
      "0              Texas  7730337.0     150  \n",
      "1          Marquette  6796117.0     173  \n",
      "2  Boston University        NaN     159  \n",
      "3      Georgia State  1148640.0     176  \n",
      "4                NaN  5000000.0     177  \n",
      "0      150\n",
      "1      173\n",
      "2      159\n",
      "3      176\n",
      "4      177\n",
      "      ... \n",
      "453    156\n",
      "454    150\n",
      "455    157\n",
      "456    175\n",
      "457    168\n",
      "Name: height, Length: 458, dtype: int32\n"
     ]
    }
   ],
   "source": [
    "# Import necessary libraries\n",
    "import pandas as pd\n",
    "import numpy as np\n",
    "import seaborn as sns\n",
    "import matplotlib.pyplot as plt\n",
    "\n",
    "# Load the dataset\n",
    "url = \"https://docs.google.com/spreadsheets/d/1VP9BE_eI2yl6uUHSm4mGiiwjRdoqCqnkcIjsv5Q2ex4/export?format=csv\"\n",
    "df = pd.read_csv(url)\n",
    "\n",
    "# Check the initial data\n",
    "print(\"Initial data:\")\n",
    "print(df.head())\n",
    "\n",
    "# Correct the data in the \"height\" column\n",
    "df['height'] = np.random.randint(150, 181, size=len(df))\n",
    "\n",
    "# Check the corrected data\n",
    "print(\"\\nCorrected data:\")\n",
    "print(df.head())\n",
    "\n",
    "# Retrieve the 'height' column after correction\n",
    "height_column = df['height']\n",
    "print(height_column)"
   ]
  },
  {
   "cell_type": "markdown",
   "id": "f4bff302-7ab8-4dda-a911-fe6bb19c8a70",
   "metadata": {},
   "source": [
    "##### Determine the distribution of employees across each team and calculate the percentage split relative to the total number of employees. "
   ]
  },
  {
   "cell_type": "code",
   "execution_count": null,
   "id": "e42668ff-bc46-49d7-8320-b7896c079dd7",
   "metadata": {},
   "outputs": [],
   "source": [
    "# 1. Calculate the distribution of employees across each team\n",
    "team_distribution = df['team'].value_counts()\n",
    "\n",
    "# Calculate the percentage split relative to the total number of employees\n",
    "total_employees = len(df)\n",
    "percentage_split = (team_distribution / total_employees) * 100\n",
    "\n",
    "# Display the results\n",
    "print(\"Distribution of Employees Across Each Team:\")\n",
    "print(team_distribution)\n",
    "print(\"\\nPercentage Split Relative to Total Number of Employees:\")\n",
    "print(percentage_split)"
   ]
  },
  {
   "cell_type": "markdown",
   "id": "1564b0e9-e6fd-4349-ad22-7398dad94295",
   "metadata": {},
   "source": [
    "##### Segregate employees based on their positions within the company."
   ]
  },
  {
   "cell_type": "code",
   "execution_count": null,
   "id": "771e6e3d-a5a9-4fec-80d6-210faec52e27",
   "metadata": {},
   "outputs": [],
   "source": [
    "employees_by_position = df.groupby('position')\n",
    "\n",
    "# Display the number of employees in each position\n",
    "for position, employees in employees_by_position:\n",
    "    print(f\"Position: {position}, Number of Employees: {len(employees)}\")"
   ]
  },
  {
   "cell_type": "markdown",
   "id": "6724ecbb-288c-4fa5-8aa0-141897ea115e",
   "metadata": {},
   "source": [
    "##### Identify the predominant age group among employees. "
   ]
  },
  {
   "cell_type": "code",
   "execution_count": null,
   "id": "36fbd6db-3087-4cf5-a276-6c3c25049c08",
   "metadata": {},
   "outputs": [],
   "source": [
    "age_bins = [20, 30, 40, 50, 60, 70]  # You can adjust the age ranges as needed\n",
    "\n",
    "# Create age groups\n",
    "age_groups = pd.cut(df['age'], bins=age_bins)\n",
    "\n",
    "# Count the number of employees in each age group\n",
    "age_group_counts = age_groups.value_counts()\n",
    "\n",
    "# Identify the predominant age group\n",
    "predominant_age_group = age_group_counts.idxmax()\n",
    "\n",
    "# Display the results\n",
    "print(\"Number of Employees in Each Age Group:\")\n",
    "print(age_group_counts)\n",
    "print(\"\\nPredominant Age Group:\", predominant_age_group)\n",
    "\n",
    "# Group the data by team and calculate the total salary expenditure for each team\n",
    "team_salary_expenditure = df.groupby('team')['salary'].sum()"
   ]
  },
  {
   "cell_type": "markdown",
   "id": "483765e4-000c-49c1-a731-fbf21204f95f",
   "metadata": {},
   "source": [
    "##### Discover which team and position have the highest salary expenditure."
   ]
  },
  {
   "cell_type": "code",
   "execution_count": null,
   "id": "4b0b671f-e834-477b-80bf-e4cd354bdff0",
   "metadata": {},
   "outputs": [],
   "source": [
    "position_salary_expenditure = df.groupby('position')['salary'].sum()\n",
    "\n",
    "# Discover which team and position have the highest salary expenditure\n",
    "team_highest_salary = team_salary_expenditure.idxmax()\n",
    "position_highest_salary = position_salary_expenditure.idxmax()\n",
    "\n",
    "# Display the results\n",
    "print(\"Team with the Highest Salary Expenditure:\", team_highest_salary)\n",
    "print(\"Position with the Highest Salary Expenditure:\", position_highest_salary)"
   ]
  },
  {
   "cell_type": "markdown",
   "id": "4bad3467-6152-44d9-b78b-4466728529d3",
   "metadata": {},
   "source": [
    "##### Investigate if there's any correlation between age and salary, and represent it visually."
   ]
  },
  {
   "cell_type": "code",
   "execution_count": null,
   "id": "5cbaa420-712c-4f9a-883b-3513ddc2f0a3",
   "metadata": {},
   "outputs": [],
   "source": [
    "plt.figure(figsize=(10, 6))\n",
    "sns.scatterplot(x='age', y='salary', data=df)\n",
    "plt.title('Correlation between Age and Salary')\n",
    "plt.xlabel('Age')\n",
    "plt.ylabel('Salary')\n",
    "plt.grid(True)\n",
    "plt.show()"
   ]
  },
  {
   "cell_type": "code",
   "execution_count": null,
   "id": "8064a93f-ae56-40ae-b319-04445e674246",
   "metadata": {},
   "outputs": [],
   "source": []
  }
 ],
 "metadata": {
  "kernelspec": {
   "display_name": "Python 3 (ipykernel)",
   "language": "python",
   "name": "python3"
  },
  "language_info": {
   "codemirror_mode": {
    "name": "ipython",
    "version": 3
   },
   "file_extension": ".py",
   "mimetype": "text/x-python",
   "name": "python",
   "nbconvert_exporter": "python",
   "pygments_lexer": "ipython3",
   "version": "3.12.1"
  }
 },
 "nbformat": 4,
 "nbformat_minor": 5
}
