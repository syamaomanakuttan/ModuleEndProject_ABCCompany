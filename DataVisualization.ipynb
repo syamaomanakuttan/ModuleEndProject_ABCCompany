{
 "cells": [
  {
   "cell_type": "markdown",
   "id": "b8e0e73f-f454-4f54-9dd8-6adf11d867bb",
   "metadata": {},
   "source": [
    "#### Plot the distribution of employees across each team"
   ]
  },
  {
   "cell_type": "code",
   "execution_count": null,
   "id": "2462ce43-f6c8-4a3e-a346-424ed8a3645d",
   "metadata": {},
   "outputs": [],
   "source": [
    "# Import necessary libraries\n",
    "import pandas as pd\n",
    "import matplotlib.pyplot as plt\n",
    "import seaborn as sns\n",
    "\n",
    "# Load the dataset\n",
    "url = \"https://docs.google.com/spreadsheets/d/1VP9BE_eI2yl6uUHSm4mGiiwjRdoqCqnkcIjsv5Q2ex4/export?format=csv\"\n",
    "data = pd.read_csv(url)\n",
    "\n",
    "# Plot the distribution of employees across each team\n",
    "plt.figure(figsize=(10, 6))\n",
    "data['team'].value_counts().plot(kind='bar', color='skyblue')\n",
    "plt.title('Distribution of Employees Across Each Team')\n",
    "plt.xlabel('Team')\n",
    "plt.ylabel('Number of Employees')\n",
    "plt.xticks(rotation=45)\n",
    "plt.grid(axis='y')\n",
    "plt.show()"
   ]
  },
  {
   "cell_type": "markdown",
   "id": "1d0dc46d-bcc6-4277-a050-ca347d6f6415",
   "metadata": {},
   "source": [
    "#### Plot the segregation of employees based on positions"
   ]
  },
  {
   "cell_type": "code",
   "execution_count": null,
   "id": "9ad9bdeb-25ff-47ad-98d4-08acac0c68af",
   "metadata": {},
   "outputs": [],
   "source": [
    "plt.figure(figsize=(10, 6))\n",
    "data['position'].value_counts().plot(kind='pie', autopct='%1.1f%%', colors=['lightblue', 'lightgreen', 'lightcoral', 'lightsalmon'])\n",
    "plt.title('Segregation of Employees Based on Positions')\n",
    "plt.ylabel('')\n",
    "plt.show()"
   ]
  },
  {
   "cell_type": "markdown",
   "id": "a4247b86-0097-42c1-ae3d-66cbf6d42bb3",
   "metadata": {},
   "source": [
    "#### Define age bins & Create age groups"
   ]
  },
  {
   "cell_type": "code",
   "execution_count": null,
   "id": "7a9935f9-f007-4568-a35e-63c9175fd77c",
   "metadata": {},
   "outputs": [],
   "source": [
    "# Define age bins\n",
    "age_bins = [20, 30, 40, 50, 60, 70]  # You can adjust the age ranges as needed\n",
    "\n",
    "# Create age groups\n",
    "data['age_group'] = pd.cut(data['age'], bins=age_bins)\n",
    "\n",
    "# Plot the predominant age group among employees\n",
    "plt.figure(figsize=(10, 6))\n",
    "data['age_group'].value_counts().sort_index().plot(kind='bar', color='lightgreen')\n",
    "plt.title('Predominant Age Group Among Employees')\n",
    "plt.xlabel('Age Group')\n",
    "plt.ylabel('Number of Employees')\n",
    "plt.xticks(rotation=45)\n",
    "plt.grid(axis='y')\n",
    "plt.show()"
   ]
  },
  {
   "cell_type": "markdown",
   "id": "b6bb54aa-ab83-4be9-8ee7-11b50d35002c",
   "metadata": {},
   "source": [
    "#### Plot the team with the highest salary expenditure"
   ]
  },
  {
   "cell_type": "code",
   "execution_count": null,
   "id": "1f45bde1-dd3b-45d1-8cd1-92bad64fbe68",
   "metadata": {},
   "outputs": [],
   "source": [
    "plt.figure(figsize=(10, 6))\n",
    "data.groupby('team')['salary'].sum().plot(kind='bar', color='lightblue')\n",
    "plt.title('Team with the Highest Salary Expenditure')\n",
    "plt.xlabel('Team')\n",
    "plt.ylabel('Total Salary Expenditure')\n",
    "plt.xticks(rotation=45)\n",
    "plt.grid(axis='y')\n",
    "plt.show()"
   ]
  },
  {
   "cell_type": "markdown",
   "id": "406b5678-b2d4-4db3-977a-1e31377acce7",
   "metadata": {},
   "source": [
    "#### Plot the position with the highest salary expenditure"
   ]
  },
  {
   "cell_type": "code",
   "execution_count": null,
   "id": "f35b3fdf-10f3-430b-8326-1df85725e08b",
   "metadata": {},
   "outputs": [],
   "source": [
    "plt.figure(figsize=(10, 6))\n",
    "data.groupby('position')['salary'].sum().plot(kind='bar', color='lightcoral')\n",
    "plt.title('Position with the Highest Salary Expenditure')\n",
    "plt.xlabel('Position')\n",
    "plt.ylabel('Total Salary Expenditure')\n",
    "plt.xticks(rotation=45)\n",
    "plt.grid(axis='y')\n",
    "plt.show()"
   ]
  },
  {
   "cell_type": "markdown",
   "id": "a9800b03-9e27-403f-b9a4-bf980e1b73b0",
   "metadata": {},
   "source": [
    "#### Plot the correlation between age and salary"
   ]
  },
  {
   "cell_type": "code",
   "execution_count": null,
   "id": "13baa21e-30a6-4561-b1d2-79dc866d8a72",
   "metadata": {},
   "outputs": [],
   "source": [
    "plt.figure(figsize=(10, 6))\n",
    "sns.scatterplot(x='age', y='salary', data=data)\n",
    "plt.title('Correlation between Age and Salary')\n",
    "plt.xlabel('Age')\n",
    "plt.ylabel('Salary')\n",
    "plt.grid(True)\n",
    "plt.show()"
   ]
  }
 ],
 "metadata": {
  "kernelspec": {
   "display_name": "Python 3 (ipykernel)",
   "language": "python",
   "name": "python3"
  },
  "language_info": {
   "codemirror_mode": {
    "name": "ipython",
    "version": 3
   },
   "file_extension": ".py",
   "mimetype": "text/x-python",
   "name": "python",
   "nbconvert_exporter": "python",
   "pygments_lexer": "ipython3",
   "version": "3.12.1"
  }
 },
 "nbformat": 4,
 "nbformat_minor": 5
}
